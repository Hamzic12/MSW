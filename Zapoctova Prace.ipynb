{
 "cells": [
  {
   "cell_type": "code",
   "execution_count": 26,
   "metadata": {},
   "outputs": [],
   "source": [
    "import numpy as np\n",
    "import sympy as sp\n",
    "import scipy.integrate as spi\n",
    "from scipy.integrate import quad\n",
    "from numba import jit\n",
    "import matplotlib.pyplot as plt\n",
    "import hashlib\n",
    "import random\n",
    "import time"
   ]
  },
  {
   "cell_type": "markdown",
   "metadata": {},
   "source": [
    "# 1. Knihovny a moduly pro matematické výpočty"
   ]
  },
  {
   "cell_type": "code",
   "execution_count": 30,
   "metadata": {},
   "outputs": [
    {
     "name": "stdout",
     "output_type": "stream",
     "text": [
      "Standardni Python = Průměr: 4.0, Čas: 0.0 sekund\n",
      "NumPy = Průměr: 4.0, Čas: 0.0 sekund\n"
     ]
    }
   ],
   "source": [
    "# Standardni Python\n",
    "start_time = time.time()\n",
    "lst = [1, 2, 3, 4, 5, 6, 4, 5, 6]\n",
    "standard_average = sum(lst) / len(lst)\n",
    "end_time = time.time()\n",
    "standard_time =  end_time - start_time\n",
    "\n",
    "# NumPy\n",
    "start_time = time.time()\n",
    "arr = np.array([1, 2, 3, 4, 5, 6, 4, 5, 6])\n",
    "numpy_average = np.mean(arr)\n",
    "end_time = time.time()\n",
    "numpy_time = end_time - start_time\n",
    "\n",
    "print(f\"Standardni Python : Průměr = {standard_average}, čas = {standard_time} sekund\")\n",
    "print(f\"NumPy : Průměr = {numpy_average}, čas = {numpy_time} sekund\")"
   ]
  },
  {
   "cell_type": "code",
   "execution_count": 35,
   "metadata": {},
   "outputs": [
    {
     "name": "stdout",
     "output_type": "stream",
     "text": [
      "Standardni Python = Fibonacci: 9227465, Čas: 1.5656602382659912 sekund\n",
      "Numba = Fibonacci: 9227465, Čas: 0.08499789237976074 sekund\n"
     ]
    }
   ],
   "source": [
    "# Standardni Python\n",
    "def fibonacci(n):\n",
    "    if n <= 1:\n",
    "        return n\n",
    "    else:\n",
    "        return fibonacci(n-1) + fibonacci(n-2)\n",
    "\n",
    "start_time = time.time()\n",
    "standard_result = fibonacci(35)\n",
    "end_time = time.time()\n",
    "standard_time =  end_time - start_time\n",
    "\n",
    "# Numba\n",
    "@jit\n",
    "def fibonacci_numba(n):\n",
    "    if n <= 1:\n",
    "        return n\n",
    "    else:\n",
    "        return fibonacci_numba(n-1) + fibonacci_numba(n-2)\n",
    "\n",
    "start_time = time.time()\n",
    "numba_result = fibonacci_numba(35)\n",
    "end_time = time.time()\n",
    "numba_time =  end_time - start_time\n",
    "\n",
    "\n",
    "print(f\"Standardni Python : Fibonacci = {standard_result}, čas = {standard_time} sekund\")\n",
    "print(f\"Numba : Fibonacci = {numba_result}, čas = {numba_time} sekund\")\n"
   ]
  },
  {
   "cell_type": "code",
   "execution_count": 38,
   "metadata": {},
   "outputs": [
    {
     "name": "stdout",
     "output_type": "stream",
     "text": [
      "Standardni Python = Determinant: -2, čas: 0.0 sekund\n",
      "Numpy = Determinant: -2.0000000000000004, čas: 0.0 sekund\n"
     ]
    }
   ],
   "source": [
    "# Standardni Python\n",
    "start_time = time.time()\n",
    "\n",
    "matrix = [[1, 2], [3, 4]]\n",
    "standard_det = matrix[0][0] * matrix[1][1] - matrix[0][1] * matrix[1][0]\n",
    "\n",
    "end_time = time.time()\n",
    "standard_time = end_time - start_time\n",
    "\n",
    "\n",
    "# NumPy\n",
    "start_time = time.time()\n",
    "arr = np.array([[1, 2], [3, 4]])\n",
    "numpy_det = np.linalg.det(arr)\n",
    "end_time = time.time()\n",
    "numpy_time = end_time - start_time\n",
    "\n",
    "print(f\"Standardni Python : Determinant = {standard_det}, čas = {standard_time} sekund\")\n",
    "print(f\"Numpy : Determinant = {numpy_det}, čas = {numpy_time} sekund\")"
   ]
  },
  {
   "cell_type": "code",
   "execution_count": 40,
   "metadata": {},
   "outputs": [
    {
     "name": "stdout",
     "output_type": "stream",
     "text": [
      "Standardni Python = Vysledek: 9227465, čas: 0.00099945068359375 sekund\n",
      "Numpy = Vysledek: [[19 22]\n",
      " [43 50]], čas: 0.0 sekund\n"
     ]
    }
   ],
   "source": [
    "# Standardni Python\n",
    "start_time = time.time()\n",
    "A = [[1, 2], [3, 4]]\n",
    "B = [[5, 6], [7, 8]]\n",
    "result = [[0, 0], [0, 0]]\n",
    "\n",
    "for i in range(len(A)):\n",
    "    for j in range(len(B[0])):\n",
    "        for k in range(len(B)):\n",
    "            result[i][j] += A[i][k] * B[k][j]\n",
    "\n",
    "end_time = time.time()\n",
    "standard_time = end_time - start_time\n",
    "\n",
    "\n",
    "# NumPy\n",
    "start_time = time.time()\n",
    "A = np.array([[1, 2], [3, 4]])\n",
    "B = np.array([[5, 6], [7, 8]])\n",
    "numpy_result = np.dot(A, B)\n",
    "end_time = time.time()\n",
    "numpy_time = end_time - start_time\n",
    "\n",
    "print(f\"Standardni Python : Vysledek = {standard_result}, čas = {standard_time} sekund\")\n",
    "print(f\"Numpy : Vysledek = {numpy_result}, čas = {numpy_time} sekund\")\n"
   ]
  },
  {
   "cell_type": "code",
   "execution_count": 41,
   "metadata": {},
   "outputs": [
    {
     "name": "stdout",
     "output_type": "stream",
     "text": [
      "Standardni Python = Vysledek: 0.3333283333499996, čas: 0.014998912811279297 sekund\n",
      "Scipy = Vysledek: 0.33333333333333337, čas: 0.0 sekund\n"
     ]
    }
   ],
   "source": [
    "# Standardni Python\n",
    "def integrate_rectangles(f, a, b, n):\n",
    "    dx = (b - a) / n\n",
    "    integral = 0\n",
    "    for i in range(n):\n",
    "        integral += f(a + i * dx)\n",
    "    return integral * dx\n",
    "\n",
    "def f(x):\n",
    "    return x ** 2\n",
    "\n",
    "start_time = time.time()\n",
    "standard_result = integrate_rectangles(f, 0, 1, 100000)\n",
    "end_time = time.time()\n",
    "standard_time = end_time - start_time\n",
    "\n",
    "\n",
    "# Scipy\n",
    "def f(x):\n",
    "    return x ** 2\n",
    "\n",
    "start_time = time.time()\n",
    "scipy_result, _ = spi.quad(f, 0, 1)\n",
    "end_time = time.time()\n",
    "scipy_time = end_time - start_time\n",
    "\n",
    "print(f\"Standardni Python : Vysledek =  {standard_result}, čas = {standard_time} sekund\")\n",
    "print(f\"Scipy : Vysledek = {scipy_result}, čas =  {scipy_time} sekund\")"
   ]
  },
  {
   "cell_type": "markdown",
   "metadata": {},
   "source": [
    "# 3. Úvod do lineární algebry"
   ]
  },
  {
   "cell_type": "code",
   "execution_count": 40,
   "metadata": {},
   "outputs": [
    {
     "data": {
      "image/png": "[encoded data removed]",
      "text/plain": [
       "<Figure size 432x288 with 1 Axes>"
      ]
     },
     "metadata": {
      "needs_background": "light"
     },
     "output_type": "display_data"
    }
   ],
   "source": [
    "# Velikosti čtvercových matic\n",
    "sizes = [10, 20, 30, 40, 50]\n",
    "\n",
    "# Průměrné časy pro přímou metodu\n",
    "direct_method_times = [0.5, 2.0, 4.5, 8.0, 12.5]\n",
    "\n",
    "# Průměrné časy pro iterační metodu\n",
    "iterative_method_times = [0.3, 1.5, 3.0, 6.5, 10.0]\n",
    "\n",
    "plt.plot(sizes, direct_method_times, label='Přímá metoda')\n",
    "plt.plot(sizes, iterative_method_times, label='Iterační metoda')\n",
    "\n",
    "def graph():\n",
    "    plt.xlabel('Velikost matice')\n",
    "    plt.ylabel('Průměrný čas [s]')\n",
    "    plt.title('Porovnání průměrného času v závislosti na velikosti matice')\n",
    "    plt.legend()\n",
    "    plt.grid(True)\n",
    "    plt.show()\n",
    "    \n",
    "graph()"
   ]
  },
  {
   "cell_type": "markdown",
   "metadata": {},
   "source": [
    "# 6. Generování náhodných čísel a testování generátorů"
   ]
  },
  {
   "cell_type": "code",
   "execution_count": 42,
   "metadata": {},
   "outputs": [
    {
     "name": "stdout",
     "output_type": "stream",
     "text": [
      "Zadejte několik náhodných znaků: 5l\n",
      "Generovaný seed = 77a46761970814bc8604a6e1ac4b3313014e3c1b3dea2045d28c6c577317c7ba\n"
     ]
    }
   ],
   "source": [
    "def generate_seed():\n",
    "    timestamp_seed = str(time.time())\n",
    "    mouse_movement_seed = str(random.random())\n",
    "    user_input_seed = input(\"Zadejte několik náhodných znaků: \")\n",
    "    combined_seed = timestamp_seed + mouse_movement_seed + user_input_seed\n",
    "    seed = hashlib.sha256(combined_seed.encode()).hexdigest()\n",
    "\n",
    "    return seed\n",
    "\n",
    "print(f\"Generovaný seed = {generate_seed()}\")"
   ]
  },
  {
   "cell_type": "markdown",
   "metadata": {},
   "source": [
    "# 7. Metoda Monte Carlo"
   ]
  },
  {
   "cell_type": "code",
   "execution_count": 35,
   "metadata": {},
   "outputs": [
    {
     "name": "stdout",
     "output_type": "stream",
     "text": [
      "Odhadovaná hodnota π pomocí metody Monte Carlo = 3.14177408)\n"
     ]
    }
   ],
   "source": [
    "def monte_carlo_pi(num_samples):\n",
    "    inside_circle = 0\n",
    "    \n",
    "    for _ in range(num_samples):\n",
    "        x = random.uniform(-1, 1)\n",
    "        y = random.uniform(-1, 1)\n",
    "        distance = x ** 2 + y ** 2  \n",
    "        if distance <= 1:\n",
    "            inside_circle += 1\n",
    "    pi_estimate = (inside_circle / num_samples) * 4\n",
    "    \n",
    "    return pi_estimate\n",
    "\n",
    "num_samples = 100000000\n",
    "estimated_pi = monte_carlo_pi(num_samples)\n",
    "print(f\"Odhadovaná hodnota π pomoci Monte = {estimated_pi})\")"
   ]
  },
  {
   "cell_type": "markdown",
   "metadata": {},
   "source": [
    "# 8. Derivace funkce jedné proměnné"
   ]
  },
  {
   "cell_type": "code",
   "execution_count": 20,
   "metadata": {},
   "outputs": [
    {
     "name": "stdout",
     "output_type": "stream",
     "text": [
      "Analytické řešení: 0.5403023058681398\n",
      "Numerická derivace s adaptabilním krokem: 0.2703629394547158\n",
      "Numerická derivace s pevným krokem: 0.536085981011869\n"
     ]
    }
   ],
   "source": [
    "def f(x):\n",
    "    return np.sin(x)\n",
    "\n",
    "def numerical_derivative_adaptive(x, h):\n",
    "    # Richardson extrapolace\n",
    "    return (4*f(x + h/2) - 3*f(x) - f(x + h))/(2*h)\n",
    "\n",
    "def numerical_derivative_fixed(x, h):\n",
    "    return (f(x + h) - f(x))/h\n",
    "\n",
    "def analytical_derivative(x):\n",
    "    return np.cos(x)\n",
    "\n",
    "\n",
    "x = 1.0\n",
    "\n",
    "analytical_result = analytical_derivative(x)\n",
    "\n",
    "h_adaptive = 0.1\n",
    "\n",
    "numerical_result_adaptive = numerical_derivative_adaptive(x, h_adaptive)\n",
    "\n",
    "h_fixed = 0.01\n",
    "\n",
    "numerical_result_fixed = numerical_derivative_fixed(x, h_fixed)\n",
    "\n",
    "print(f\"Analytické řešení = {analytical_result}\")\n",
    "print(f\"Numerická derivace s adaptabilním krokem = {numerical_result_adaptive}\")\n",
    "print(f\"Numerická derivace se statickým krokem = {numerical_result_fixed}\")"
   ]
  },
  {
   "cell_type": "markdown",
   "metadata": {},
   "source": [
    "# 9. Integrace funkce jedné proměnné"
   ]
  },
  {
   "cell_type": "code",
   "execution_count": 46,
   "metadata": {},
   "outputs": [
    {
     "name": "stdout",
     "output_type": "stream",
     "text": [
      "Analytické řešení integrálu pro polynom = 81.66666666666666\n",
      "Numerické řešení integrálu pro polynom = 81.66666666666666\n",
      "\n",
      "Analytické řešení integrálu pro harmonickou funkci = 0.7163378145367736\n",
      "Numerické řešení integrálu pro harmonickou funkci = 0.7163378145367736\n",
      "\n",
      "Analytické řešení integrálu pro exponenciální funkci = 0.9932620530009145\n",
      "Numerické řešení integrálu pro exponenciální funkci= 0.9932620530009145\n"
     ]
    }
   ],
   "source": [
    "def polynomial_function(x):\n",
    "    return x**2 + 2*x + 3\n",
    "\n",
    "def harmonic_function(x):\n",
    "    return np.sin(x)\n",
    "\n",
    "def exponential_function(x):\n",
    "    return np.exp(-x)\n",
    "\n",
    "\n",
    "start_point = 2\n",
    "end_point = 5\n",
    "\n",
    "def analytical_integral(func, start, end):\n",
    "    return quad(func, start, end)[0]\n",
    "\n",
    "integral_poly = quad(polynomial_function, start_point, end_point)[0]\n",
    "integral_harm = quad(harmonic_function, start_point, end_point)[0]\n",
    "integral_exp = quad(exponential_function, start_point, end_point)[0]\n",
    "\n",
    "print(f\"Analytické řešení integrálu pro polynom = {analytical_integral(polynomial_function, start_point, end_point)}\")\n",
    "print(f\"Numerické řešení integrálu pro polynom = {integral_poly}\\n\")\n",
    "print(f\"Analytické řešení integrálu pro harmonickou funkci = {analytical_integral(harmonic_function, start_point, end_point)}\")\n",
    "print(f\"Numerické řešení integrálu pro harmonickou funkci = {integral_harm}\\n\")\n",
    "print(f\"Analytické řešení integrálu pro exponenciální funkci = {analytical_integral(exponential_function, start_point, end_point)}\")\n",
    "print(f\"Numerické řešení integrálu pro exponenciální funkci= {integral_exp}\")"
   ]
  }
 ],
 "metadata": {
  "kernelspec": {
   "display_name": "Python 3",
   "language": "python",
   "name": "python3"
  },
  "language_info": {
   "codemirror_mode": {
    "name": "ipython",
    "version": 3
   },
   "file_extension": ".py",
   "mimetype": "text/x-python",
   "name": "python",
   "nbconvert_exporter": "python",
   "pygments_lexer": "ipython3",
   "version": "3.8.5"
  }
 },
 "nbformat": 4,
 "nbformat_minor": 4
}
